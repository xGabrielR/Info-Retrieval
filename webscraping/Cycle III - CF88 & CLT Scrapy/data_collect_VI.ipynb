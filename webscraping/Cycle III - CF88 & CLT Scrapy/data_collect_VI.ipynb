{
 "cells": [
  {
   "cell_type": "code",
   "execution_count": 1,
   "id": "df5c4602",
   "metadata": {},
   "outputs": [],
   "source": [
    "import re\n",
    "import nltk\n",
    "import requests\n",
    "import warnings\n",
    "import pandas as pd\n",
    "\n",
    "from bs4 import BeautifulSoup\n",
    "from datetime import datetime"
   ]
  },
  {
   "cell_type": "markdown",
   "id": "29aa61a6",
   "metadata": {
    "heading_collapsed": true
   },
   "source": [
    "### Aux Functions "
   ]
  },
  {
   "cell_type": "code",
   "execution_count": 2,
   "id": "b5e6f840",
   "metadata": {
    "hidden": true
   },
   "outputs": [],
   "source": [
    "def get_rows_list(full_rows_list) -> tuple:\n",
    "    full_pre_list = []\n",
    "    full_discarted_list = []\n",
    "    \n",
    "    for i in range(0, len(full_rows_list)):\n",
    "        row = full_rows_list[i]\n",
    "\n",
    "        if row:\n",
    "            if row[0].startswith('(') and len(row) == 1:\n",
    "                full_discarted_list.append(row)\n",
    "\n",
    "            if len(row[0]) == 1 and len(row) == 1 and row[0].startswith(\"(\"):\n",
    "                full_discarted_list.append(row)\n",
    "\n",
    "            elif row[-1].upper() == \"(VIGÊNCIA)\":\n",
    "                full_pre_list.append(row[:-1])\n",
    "\n",
    "            elif row[0].startswith('(revogado') or 'vigência encerrada' in ' '.join(row[:-1]):\n",
    "                full_discarted_list.append(row)\n",
    "\n",
    "            elif row[0].endswith('(revogado).') or row[0].endswith('(revogado);'):\n",
    "                full_discarted_list.append(row)\n",
    "\n",
    "            elif row[0].startswith('vigência encerrada') or row[0].startswith('(vigência encerrada)'):\n",
    "                full_discarted_list.append(row)\n",
    "\n",
    "            else:\n",
    "                full_pre_list.append(row)\n",
    "                \n",
    "    return (full_pre_list, full_discarted_list)\n",
    "\n",
    "# nltk.download('punkt')\n",
    "# nltk.download('maxent_ne_chunker')\n",
    "# warnings.filterwarnings('ignore')"
   ]
  },
  {
   "cell_type": "markdown",
   "id": "acdd37ff",
   "metadata": {},
   "source": [
    "# 1.0. CLT Data Collect"
   ]
  },
  {
   "cell_type": "markdown",
   "id": "5a6e4ad3",
   "metadata": {
    "heading_collapsed": true
   },
   "source": [
    "## Data Collect"
   ]
  },
  {
   "cell_type": "code",
   "execution_count": 3,
   "id": "2bac65e8",
   "metadata": {
    "hidden": true
   },
   "outputs": [],
   "source": [
    "r_list = ['I', 'IL', 'II','III','IV','V','VI','VII','VIII','IX','X','XI','XII','XIII','XIV','XV','XVI','XVII','XVIII','XIX','XX','XXI','XXII','XXIII','XXIV','XXV','XXVI','XXVII','XXVIII','XXIX','XXX','XXXI','XXXII','XXXIII','XXXIV','XXXV','XXXVI','XXXVII','XXXVIII','XXXIX','XL','XLI','XLII','XLIII','XLIV','XLV','XLVI','XLVII','XLVIII','XLIX','L','LI',\n",
    "          'LII','LIII','LIV','LV','LVI','LVII','LVIII','LIX','LX','LXI','LXII','LXIII','LXIV','LXV','LXVI','LXVII','LXVIII','LXIX','LXX','LXXI','LXXII','LXXIII','LXXIV','LXXV','LXXVI','LXXVII','LXXVIII','LXXIX','LXXX','LXXXI','LXXXII','LXXXIII','LXXXIV','LXXXV','LXXXVI','LXXXVII','LXXXVIII','LXXXIX','XC','XCI','XCII','XCIII','XCIV','XCV','XCVI','XCVII','XCVIII','XCIX','C']\n",
    "\n",
    "alineas_list = [\n",
    "    'a)', 'b)', 'c)', 'd)', 'e)', 'f)', 'g)', 'h)', 'i)', 'j)', 'k)', 'l)', 'm)',\n",
    "    'n)', 'o)', 'p)', 'q)', 'r)', 's)', 't)', 'u)', 'v)', 'w)', 'x)', 'y)', 'z)'\n",
    "]"
   ]
  },
  {
   "cell_type": "code",
   "execution_count": 4,
   "id": "e0208452",
   "metadata": {
    "hidden": true
   },
   "outputs": [],
   "source": [
    "soup = BeautifulSoup(open('page/clt.html').read(), 'html.parser')"
   ]
  },
  {
   "cell_type": "code",
   "execution_count": 5,
   "id": "edb9b4f0",
   "metadata": {
    "hidden": true
   },
   "outputs": [],
   "source": [
    "source = ' '.join([k.strip() for k in soup.find('big').get_text().split('\\n')])"
   ]
  },
  {
   "cell_type": "code",
   "execution_count": 6,
   "id": "28c0cddb",
   "metadata": {
    "hidden": true
   },
   "outputs": [],
   "source": [
    "#full_html_page_list = soup.find_all('p')[8:]\n",
    "\n",
    "full_html_page = soup.find('body')\n",
    "\n",
    "strike_tag = full_html_page.find_all('strike')\n",
    "st = [k.extract() for k in full_html_page.find_all('strike')]"
   ]
  },
  {
   "cell_type": "code",
   "execution_count": 7,
   "id": "45aae39d",
   "metadata": {
    "hidden": true
   },
   "outputs": [],
   "source": [
    "full_html_page_list = full_html_page.find_all('p')\n",
    "\n",
    "for k in range(0, 20):\n",
    "    if full_html_page_list[k].get_text().startswith('O PRESIDENTE'):\n",
    "        full_html_page_list = full_html_page_list[k:]\n",
    "        break"
   ]
  },
  {
   "cell_type": "code",
   "execution_count": 8,
   "id": "73984de2",
   "metadata": {
    "hidden": true
   },
   "outputs": [],
   "source": [
    "full_rows_list = []\n",
    "\n",
    "for page in full_html_page_list:\n",
    "    txt = page.get_text().replace('rt.', 'rt').replace('arts.', 'arts ').replace('\\xa0', '\\n').replace('\\n\\t', '').replace('\\t', '')\n",
    "    txt = txt.replace('º', '.').lower().replace('(revogada', '(revogado')\n",
    "    \n",
    "    for j in range(1, 922): # Manual Index :(\n",
    "        txt = txt.replace(f'{j}º', f'{j}.').replace(f'{j}o', f'{j}.').replace(f'{j}ª ', f'{j}. ').replace(f'{j}) ', f'{j}. ')\n",
    "    \n",
    "    pre_txt = [k.strip() for k in nltk.tokenize.line_tokenize(txt)]\n",
    "    full_rows_list.append(pre_txt)\n",
    "    \n",
    "full_pre_list, full_discarted_list = get_rows_list(full_rows_list)"
   ]
  },
  {
   "cell_type": "code",
   "execution_count": 9,
   "id": "3f277ccc",
   "metadata": {
    "hidden": true,
    "scrolled": false
   },
   "outputs": [],
   "source": [
    "arts = []\n",
    "discarted_arts = []\n",
    "for i in range(0, len(full_pre_list)):\n",
    "    row = full_pre_list[i]\n",
    "    \n",
    "    if row[0].startswith('art'):\n",
    "        string_row = ' '.join(row).replace(' - ', '. ').replace('art .', 'art').replace('.. ', '. ')\n",
    "        string_token = nltk.tokenize.wordpunct_tokenize(string_row)\n",
    "        texto = ' '.join(string_token[2:])\n",
    "        \n",
    "        try:\n",
    "            if string_token[2] == '-' and len(string_token[3]) == 1:\n",
    "                artigo = string_token[0]+' '+''.join(string_token[1:4]).upper()\n",
    "            elif len(string_token[0]) > 3:\n",
    "                artigo = ' '.join(string_token[:2]).replace('art', 'art ').strip()+'.'\n",
    "            else: \n",
    "                artigo = ' '.join(string_token[:2]).strip()+'.'\n",
    "        except:\n",
    "            artigo = ' '.join(string_token)\n",
    "        \n",
    "        arts.append(\n",
    "            {'artigo': artigo, 'texto': texto}\n",
    "        )\n",
    "        \n",
    "    elif row[0].startswith('§'):\n",
    "        string_row = ' '.join(row).replace(' -', '').replace('.-', '-')\n",
    "        string_token = nltk.tokenize.wordpunct_tokenize(string_row)\n",
    "        \n",
    "        if string_token[2] == '-':\n",
    "            para = string_token[0]+' '+''.join(string_token[1:4]).upper()\n",
    "            texto = ' '.join(string_token[5:]).strip().capitalize()\n",
    "            \n",
    "        else:\n",
    "            para = ' '.join(string_token[:2])+'.'\n",
    "            texto = ' '.join(string_token[2:]).strip().capitalize()\n",
    "            \n",
    "        arts.append(\n",
    "            {'paragrafo': para, 'texto': texto}\n",
    "        )\n",
    "        \n",
    "    elif row[0].split()[0] in alineas_list:\n",
    "        string_token = nltk.tokenize.wordpunct_tokenize(' '.join(row)) \n",
    "        arts.append(\n",
    "            {'alinea': ''.join(string_token[0:2]), 'texto': ' '.join(string_token[2:]).capitalize() }\n",
    "        )\n",
    "    \n",
    "    elif row[0].upper().split()[0] in r_list:\n",
    "        string_row = ' '.join(row).replace(' - ', '. ').split()\n",
    "        \n",
    "        arts.append(\n",
    "            {'inciso': string_row[0], 'texto': ' '.join(string_row[1:])}\n",
    "        )\n",
    "    \n",
    "    elif row[0].startswith('parágrafo único') or ' '.join(row[:1]) == 'parágrafo único':\n",
    "        string_row = ' '.join(row).replace(' - ', '.')\n",
    "        texto = ' '.join(string_row.split()[2:]).strip().capitalize()\n",
    "        \n",
    "        arts.append(\n",
    "            {'paragrafo_unico': 'pu', 'texto': texto}\n",
    "        )\n",
    "        \n",
    "    elif row[0].startswith('título'): #or row[0].startswith('seção'):\n",
    "        info = ' '.join([k.strip() for k in row[0].split()]).upper()\n",
    "        title_content = ' '.join(full_pre_list[i+1])\n",
    "        if title_content.startswith('art'):\n",
    "            title_content = 'NAN'\n",
    "        \n",
    "        content = info + ' ' + title_content.upper()\n",
    "        \n",
    "        arts.append({'titulo': content})\n",
    "        \n",
    "    else:\n",
    "        discarted_arts.append(row)"
   ]
  },
  {
   "cell_type": "code",
   "execution_count": 10,
   "id": "cd114959",
   "metadata": {
    "hidden": true
   },
   "outputs": [],
   "source": [
    "df_raw = pd.DataFrame(arts)"
   ]
  },
  {
   "cell_type": "code",
   "execution_count": 11,
   "id": "2245bb34",
   "metadata": {
    "hidden": true
   },
   "outputs": [
    {
     "data": {
      "text/html": [
       "<div>\n",
       "<style scoped>\n",
       "    .dataframe tbody tr th:only-of-type {\n",
       "        vertical-align: middle;\n",
       "    }\n",
       "\n",
       "    .dataframe tbody tr th {\n",
       "        vertical-align: top;\n",
       "    }\n",
       "\n",
       "    .dataframe thead th {\n",
       "        text-align: right;\n",
       "    }\n",
       "</style>\n",
       "<table border=\"1\" class=\"dataframe\">\n",
       "  <thead>\n",
       "    <tr style=\"text-align: right;\">\n",
       "      <th></th>\n",
       "      <th>artigo</th>\n",
       "      <th>texto</th>\n",
       "      <th>paragrafo_unico</th>\n",
       "      <th>titulo</th>\n",
       "      <th>paragrafo</th>\n",
       "      <th>inciso</th>\n",
       "      <th>alinea</th>\n",
       "    </tr>\n",
       "  </thead>\n",
       "  <tbody>\n",
       "    <tr>\n",
       "      <th>0</th>\n",
       "      <td>art 1.</td>\n",
       "      <td>. fica aprovada a consolidação das leis do tra...</td>\n",
       "      <td>NaN</td>\n",
       "      <td>NaN</td>\n",
       "      <td>NaN</td>\n",
       "      <td>NaN</td>\n",
       "      <td>NaN</td>\n",
       "    </tr>\n",
       "    <tr>\n",
       "      <th>1</th>\n",
       "      <td>NaN</td>\n",
       "      <td>Continuam em vigor as disposições legais trans...</td>\n",
       "      <td>pu</td>\n",
       "      <td>NaN</td>\n",
       "      <td>NaN</td>\n",
       "      <td>NaN</td>\n",
       "      <td>NaN</td>\n",
       "    </tr>\n",
       "    <tr>\n",
       "      <th>2</th>\n",
       "      <td>art 2.</td>\n",
       "      <td>. o presente decreto - lei entrará em vigor em...</td>\n",
       "      <td>NaN</td>\n",
       "      <td>NaN</td>\n",
       "      <td>NaN</td>\n",
       "      <td>NaN</td>\n",
       "      <td>NaN</td>\n",
       "    </tr>\n",
       "    <tr>\n",
       "      <th>3</th>\n",
       "      <td>NaN</td>\n",
       "      <td>NaN</td>\n",
       "      <td>NaN</td>\n",
       "      <td>TÍTULO I INTRODUÇÃO</td>\n",
       "      <td>NaN</td>\n",
       "      <td>NaN</td>\n",
       "      <td>NaN</td>\n",
       "    </tr>\n",
       "    <tr>\n",
       "      <th>4</th>\n",
       "      <td>art 1.</td>\n",
       "      <td>. esta consolidação estatui as normas que regu...</td>\n",
       "      <td>NaN</td>\n",
       "      <td>NaN</td>\n",
       "      <td>NaN</td>\n",
       "      <td>NaN</td>\n",
       "      <td>NaN</td>\n",
       "    </tr>\n",
       "  </tbody>\n",
       "</table>\n",
       "</div>"
      ],
      "text/plain": [
       "   artigo                                              texto paragrafo_unico  \\\n",
       "0  art 1.  . fica aprovada a consolidação das leis do tra...             NaN   \n",
       "1     NaN  Continuam em vigor as disposições legais trans...              pu   \n",
       "2  art 2.  . o presente decreto - lei entrará em vigor em...             NaN   \n",
       "3     NaN                                                NaN             NaN   \n",
       "4  art 1.  . esta consolidação estatui as normas que regu...             NaN   \n",
       "\n",
       "                titulo paragrafo inciso alinea  \n",
       "0                  NaN       NaN    NaN    NaN  \n",
       "1                  NaN       NaN    NaN    NaN  \n",
       "2                  NaN       NaN    NaN    NaN  \n",
       "3  TÍTULO I INTRODUÇÃO       NaN    NaN    NaN  \n",
       "4                  NaN       NaN    NaN    NaN  "
      ]
     },
     "execution_count": 11,
     "metadata": {},
     "output_type": "execute_result"
    }
   ],
   "source": [
    "df_raw.head()"
   ]
  },
  {
   "cell_type": "markdown",
   "id": "9296dc35",
   "metadata": {
    "heading_collapsed": true
   },
   "source": [
    "## Data Cleaning"
   ]
  },
  {
   "cell_type": "code",
   "execution_count": 12,
   "id": "df28dee6",
   "metadata": {
    "hidden": true
   },
   "outputs": [],
   "source": [
    "df = df_raw.copy()\n",
    "\n",
    "df1 = df.drop_duplicates().reset_index(drop=True)"
   ]
  },
  {
   "cell_type": "markdown",
   "id": "389d7782",
   "metadata": {
    "heading_collapsed": true,
    "hidden": true
   },
   "source": [
    "### Arts Cleaning"
   ]
  },
  {
   "cell_type": "code",
   "execution_count": 13,
   "id": "691eee4c",
   "metadata": {
    "hidden": true
   },
   "outputs": [],
   "source": [
    "df1.artigo = df1.artigo.fillna(method='ffill')\n",
    "df1.artigo = [k[:3].capitalize()+'.'+k[3:] for k in df1.artigo.tolist()]"
   ]
  },
  {
   "cell_type": "markdown",
   "id": "4e87bf13",
   "metadata": {
    "heading_collapsed": true,
    "hidden": true
   },
   "source": [
    "### Unique Parag, Inciso and Alinea Cleaning"
   ]
  },
  {
   "cell_type": "code",
   "execution_count": 14,
   "id": "e5703677",
   "metadata": {
    "hidden": true
   },
   "outputs": [],
   "source": [
    "df1.paragrafo = df1.paragrafo.fillna('na')\n",
    "df1.inciso = df1.inciso.fillna('na')\n",
    "df1.alinea = df1.alinea.fillna('na')\n",
    "df1.paragrafo_unico = df1.paragrafo_unico.apply(lambda x: 'PU' if x == 'pu' else 'na')"
   ]
  },
  {
   "cell_type": "code",
   "execution_count": 15,
   "id": "30243502",
   "metadata": {
    "hidden": true
   },
   "outputs": [
    {
     "data": {
      "text/html": [
       "<div>\n",
       "<style scoped>\n",
       "    .dataframe tbody tr th:only-of-type {\n",
       "        vertical-align: middle;\n",
       "    }\n",
       "\n",
       "    .dataframe tbody tr th {\n",
       "        vertical-align: top;\n",
       "    }\n",
       "\n",
       "    .dataframe thead th {\n",
       "        text-align: right;\n",
       "    }\n",
       "</style>\n",
       "<table border=\"1\" class=\"dataframe\">\n",
       "  <thead>\n",
       "    <tr style=\"text-align: right;\">\n",
       "      <th></th>\n",
       "      <th>artigo</th>\n",
       "      <th>texto</th>\n",
       "      <th>paragrafo_unico</th>\n",
       "      <th>titulo</th>\n",
       "      <th>paragrafo</th>\n",
       "      <th>inciso</th>\n",
       "      <th>alinea</th>\n",
       "    </tr>\n",
       "  </thead>\n",
       "  <tbody>\n",
       "    <tr>\n",
       "      <th>0</th>\n",
       "      <td>Art. 1.</td>\n",
       "      <td>. fica aprovada a consolidação das leis do tra...</td>\n",
       "      <td>na</td>\n",
       "      <td>NaN</td>\n",
       "      <td>na</td>\n",
       "      <td>na</td>\n",
       "      <td>na</td>\n",
       "    </tr>\n",
       "    <tr>\n",
       "      <th>1</th>\n",
       "      <td>Art. 1.</td>\n",
       "      <td>Continuam em vigor as disposições legais trans...</td>\n",
       "      <td>PU</td>\n",
       "      <td>NaN</td>\n",
       "      <td>na</td>\n",
       "      <td>na</td>\n",
       "      <td>na</td>\n",
       "    </tr>\n",
       "    <tr>\n",
       "      <th>2</th>\n",
       "      <td>Art. 2.</td>\n",
       "      <td>. o presente decreto - lei entrará em vigor em...</td>\n",
       "      <td>na</td>\n",
       "      <td>NaN</td>\n",
       "      <td>na</td>\n",
       "      <td>na</td>\n",
       "      <td>na</td>\n",
       "    </tr>\n",
       "  </tbody>\n",
       "</table>\n",
       "</div>"
      ],
      "text/plain": [
       "    artigo                                              texto paragrafo_unico  \\\n",
       "0  Art. 1.  . fica aprovada a consolidação das leis do tra...              na   \n",
       "1  Art. 1.  Continuam em vigor as disposições legais trans...              PU   \n",
       "2  Art. 2.  . o presente decreto - lei entrará em vigor em...              na   \n",
       "\n",
       "  titulo paragrafo inciso alinea  \n",
       "0    NaN        na     na     na  \n",
       "1    NaN        na     na     na  \n",
       "2    NaN        na     na     na  "
      ]
     },
     "execution_count": 15,
     "metadata": {},
     "output_type": "execute_result"
    }
   ],
   "source": [
    "df1.head(3)"
   ]
  },
  {
   "cell_type": "markdown",
   "id": "f9543b15",
   "metadata": {
    "heading_collapsed": true,
    "hidden": true
   },
   "source": [
    "### Title Cleaning"
   ]
  },
  {
   "cell_type": "code",
   "execution_count": 16,
   "id": "53c96caa",
   "metadata": {
    "hidden": true
   },
   "outputs": [],
   "source": [
    "df1.titulo = df1.titulo.fillna(method='ffill')"
   ]
  },
  {
   "cell_type": "markdown",
   "id": "08a24ea2",
   "metadata": {
    "heading_collapsed": true,
    "hidden": true
   },
   "source": [
    "### Text Cleaning"
   ]
  },
  {
   "cell_type": "code",
   "execution_count": 17,
   "id": "a235b862",
   "metadata": {
    "hidden": true
   },
   "outputs": [],
   "source": [
    "df1 = df1[~df1.texto.isna()].reset_index(drop=True)"
   ]
  },
  {
   "cell_type": "code",
   "execution_count": 18,
   "id": "b46ce34c",
   "metadata": {
    "hidden": true,
    "scrolled": false
   },
   "outputs": [],
   "source": [
    "df1.texto = [k[2:].strip() if k.startswith('.') else k for k in df1.texto.tolist()]\n",
    "df1.texto = [k[5:].strip() if k.startswith('- ') else k for k in df1.texto.tolist()]\n",
    "df1.texto = df1.texto.apply(lambda x: x.lower().strip().replace('revogada', 'revogado'))\n",
    "\n",
    "df1 = df1[~df1.texto.str.contains('revogado')].reset_index(drop=True)\n",
    "df1.texto = df1.texto.apply(lambda x: x.strip().capitalize().replace(' - ', '-').replace(' ,', ',').replace(' ;', ';').replace(' .', '.').replace(' :', ':'))\n",
    "df1.texto = df1.texto.apply(lambda x: x+'.' if not (x.endswith('.') or x.endswith(';')) else x)"
   ]
  },
  {
   "cell_type": "markdown",
   "id": "7915a967",
   "metadata": {
    "heading_collapsed": true
   },
   "source": [
    "## Data Verify"
   ]
  },
  {
   "cell_type": "code",
   "execution_count": 19,
   "id": "11744eff",
   "metadata": {
    "hidden": true
   },
   "outputs": [],
   "source": [
    "df2 = df1.copy()\n",
    "\n",
    "df2 = df2.iloc[:-1, :]"
   ]
  },
  {
   "cell_type": "markdown",
   "id": "f8fb56c0",
   "metadata": {
    "heading_collapsed": true,
    "hidden": true
   },
   "source": [
    "### Ordering Columns"
   ]
  },
  {
   "cell_type": "code",
   "execution_count": 20,
   "id": "e55e2c3a",
   "metadata": {
    "hidden": true
   },
   "outputs": [],
   "source": [
    "df2['sigla'] = 'CLT'\n",
    "df2['link']  = 'http://www.planalto.gov.br/ccivil_03/decreto-lei/del5452.htm'\n",
    "df2['scrapy_datetime'] = datetime.now().strftime(\"%Y-%m-%d %H:%M:%S\")\n",
    "df2['process_datetime'] = datetime.now().strftime(\"%Y-%m-%d %H:%M:%S\")"
   ]
  },
  {
   "cell_type": "code",
   "execution_count": 21,
   "id": "a1591d92",
   "metadata": {
    "hidden": true
   },
   "outputs": [
    {
     "data": {
      "text/plain": [
       "['artigo',\n",
       " 'texto',\n",
       " 'paragrafo_unico',\n",
       " 'titulo',\n",
       " 'paragrafo',\n",
       " 'inciso',\n",
       " 'alinea',\n",
       " 'sigla',\n",
       " 'link',\n",
       " 'scrapy_datetime',\n",
       " 'process_datetime']"
      ]
     },
     "execution_count": 21,
     "metadata": {},
     "output_type": "execute_result"
    }
   ],
   "source": [
    "df2.columns.tolist()"
   ]
  },
  {
   "cell_type": "code",
   "execution_count": 23,
   "id": "94e1abba",
   "metadata": {
    "hidden": true
   },
   "outputs": [],
   "source": [
    "df2 = df2[['sigla', 'titulo', 'texto', 'artigo', 'inciso', 'alinea', 'paragrafo', 'paragrafo_unico', \n",
    "           'link', 'scrapy_datetime', 'process_datetime']]"
   ]
  },
  {
   "cell_type": "markdown",
   "id": "650e588d",
   "metadata": {
    "heading_collapsed": true,
    "hidden": true
   },
   "source": [
    "### Save to CSV"
   ]
  },
  {
   "cell_type": "code",
   "execution_count": 24,
   "id": "6db7ddba",
   "metadata": {
    "hidden": true
   },
   "outputs": [],
   "source": [
    "df2.to_csv(f\"clt_scrapy_{datetime.now().strftime('%Y-%m-%d')}.csv\", index=False)"
   ]
  },
  {
   "cell_type": "markdown",
   "id": "5d2c3f4e",
   "metadata": {
    "heading_collapsed": true
   },
   "source": [
    "## Streamlit App Data Transform"
   ]
  },
  {
   "cell_type": "code",
   "execution_count": 25,
   "id": "80021517",
   "metadata": {
    "hidden": true
   },
   "outputs": [],
   "source": [
    "import re\n",
    "import pandas as pd \n",
    "\n",
    "df = pd.read_csv('clt_scrapy_2022-09-08.csv')\n",
    "df = df.drop_duplicates().reset_index(drop=True)"
   ]
  },
  {
   "cell_type": "markdown",
   "id": "4cf0dccf",
   "metadata": {
    "hidden": true
   },
   "source": [
    "Pattern: CF88 - Art. 1. § 9 a) III PU"
   ]
  },
  {
   "cell_type": "code",
   "execution_count": 26,
   "id": "e4f9d8dc",
   "metadata": {
    "hidden": true,
    "scrolled": false
   },
   "outputs": [],
   "source": [
    "df['padrao'] = df.apply(lambda x: (x['sigla'] + ' - ' + x['artigo'] + ' ' + \n",
    "                                   x['paragrafo'].replace('na', '') + ' ' + \n",
    "                                   x['alinea'].replace('na', '') + ' ' + \n",
    "                                   x['inciso'].replace('na', '') + ' ' + \n",
    "                                   x['paragrafo_unico'].replace('na', '').upper()).strip(), axis=1)\n",
    "\n",
    "df['padrao'] = df['padrao'].apply(lambda x: ' '.join(x.split()))"
   ]
  },
  {
   "cell_type": "code",
   "execution_count": 28,
   "id": "ab0ae5c7",
   "metadata": {
    "hidden": true
   },
   "outputs": [],
   "source": [
    "df[['titulo', 'padrao', 'texto', 'link']].to_csv('clt_elastic.csv', index=False)"
   ]
  }
 ],
 "metadata": {
  "hide_input": false,
  "kernelspec": {
   "display_name": "Python 3 (ipykernel)",
   "language": "python",
   "name": "python3"
  },
  "language_info": {
   "codemirror_mode": {
    "name": "ipython",
    "version": 3
   },
   "file_extension": ".py",
   "mimetype": "text/x-python",
   "name": "python",
   "nbconvert_exporter": "python",
   "pygments_lexer": "ipython3",
   "version": "3.9.5"
  },
  "varInspector": {
   "cols": {
    "lenName": 16,
    "lenType": 16,
    "lenVar": 40
   },
   "kernels_config": {
    "python": {
     "delete_cmd_postfix": "",
     "delete_cmd_prefix": "del ",
     "library": "var_list.py",
     "varRefreshCmd": "print(var_dic_list())"
    },
    "r": {
     "delete_cmd_postfix": ") ",
     "delete_cmd_prefix": "rm(",
     "library": "var_list.r",
     "varRefreshCmd": "cat(var_dic_list()) "
    }
   },
   "types_to_exclude": [
    "module",
    "function",
    "builtin_function_or_method",
    "instance",
    "_Feature"
   ],
   "window_display": false
  }
 },
 "nbformat": 4,
 "nbformat_minor": 5
}
