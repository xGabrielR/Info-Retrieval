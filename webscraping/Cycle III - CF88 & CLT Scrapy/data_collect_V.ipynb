{
 "cells": [
  {
   "cell_type": "code",
   "execution_count": 1,
   "id": "df5c4602",
   "metadata": {},
   "outputs": [],
   "source": [
    "import re\n",
    "import nltk\n",
    "import requests\n",
    "import warnings\n",
    "import pandas as pd\n",
    "\n",
    "from bs4 import BeautifulSoup\n",
    "from datetime import datetime"
   ]
  },
  {
   "cell_type": "markdown",
   "id": "29aa61a6",
   "metadata": {
    "heading_collapsed": true
   },
   "source": [
    "### Aux Functions "
   ]
  },
  {
   "cell_type": "code",
   "execution_count": 24,
   "id": "b5e6f840",
   "metadata": {
    "hidden": true
   },
   "outputs": [],
   "source": [
    "def fix_wrong_range_var(df1, range_var, range_value, text='texto'):\n",
    "    for _, row in df1.iterrows():\n",
    "        if len(row[range_var]) > range_value:\n",
    "            row[text] = row[range_var][range_value:].strip()\n",
    "            row[range_var] = row[range_var][:range_value].strip()\n",
    "\n",
    "    return df1\n",
    "\n",
    "def check_len_row(row, aux_list, append_var):\n",
    "    if len(row) > 2:\n",
    "        aux_list.append(\n",
    "            {append_var: row[0], 'texto': ' '.join(row[1:])}\n",
    "        )\n",
    "\n",
    "    else:\n",
    "        aux_list.append(\n",
    "            {append_var: row[0], 'texto': row[1]}\n",
    "        )\n",
    "\n",
    "    return None\n",
    "\n",
    "def get_titles_from_camara():\n",
    "    hdr = {'User-Agent': 'Mozilla/5.0 (Macintosh; Intel Mac OS X 10_11_5),AppleWebKit/537.36 (KHTML, like Gecko) Chrome/50.0.2661.102 Safari/537.36'}\n",
    "    url = 'https://www2.camara.leg.br/legin/fed/consti/1988/constituicao-1988-5-outubro-1988-322142-publicacaooriginal-1-pl.html'\n",
    "\n",
    "    pg = requests.get(url=url, headers=hdr)\n",
    "    soup = BeautifulSoup(pg.text, 'html.parser')\n",
    "\n",
    "    txt = soup.find('div', class_='textoNorma').get_text().replace('rt.', 'rt').replace('º', '.').replace('arts.', 'arts ')\n",
    "\n",
    "    pre_txt = [k.strip() for k in nltk.tokenize.sent_tokenize(\n",
    "        txt, language='portuguese'\n",
    "    )]\n",
    "\n",
    "    pre_txt = [list(filter(None, r.split('\\xa0'))) for r in pre_txt]\n",
    "\n",
    "    titles_dict = [{art[1].replace('Art', 'Art.'): ' '.join(art[0].split('\\n')[:2]).strip()} for art in pre_txt if art[0].startswith('TÍTULO')]\n",
    "    titles_dict = {k:v for i in titles_dict for k, v in i.items()}\n",
    "    \n",
    "    return titles_dict\n",
    "\n",
    "# nltk.download('punkt')\n",
    "# nltk.download('maxent_ne_chunker')\n",
    "# warnings.filterwarnings('ignore')"
   ]
  },
  {
   "cell_type": "markdown",
   "id": "acdd37ff",
   "metadata": {},
   "source": [
    "# 1.0. CF88 Data Collect"
   ]
  },
  {
   "cell_type": "markdown",
   "id": "5a6e4ad3",
   "metadata": {
    "heading_collapsed": true
   },
   "source": [
    "## Data Collect"
   ]
  },
  {
   "cell_type": "code",
   "execution_count": 23,
   "id": "e0208452",
   "metadata": {
    "hidden": true
   },
   "outputs": [],
   "source": [
    "soup = BeautifulSoup(open('page/Constituição.html').read(), 'html.parser')"
   ]
  },
  {
   "cell_type": "code",
   "execution_count": 24,
   "id": "edb9b4f0",
   "metadata": {
    "hidden": true
   },
   "outputs": [],
   "source": [
    "source = ' '.join([k.get_text().strip() for k in soup.find_all('big')][1:])"
   ]
  },
  {
   "cell_type": "code",
   "execution_count": 27,
   "id": "2bac65e8",
   "metadata": {
    "hidden": true
   },
   "outputs": [],
   "source": [
    "r_list = ['I','II','III','IV','V','VI','VII','VIII','IX','X','XI','XII','XIII','XIV','XV','XVI','XVII','XVIII','XIX','XX','XXI','XXII','XXIII','XXIV','XXV','XXVI','XXVII','XXVIII','XXIX','XXX','XXXI','XXXII','XXXIII','XXXIV','XXXV','XXXVI','XXXVII','XXXVIII','XXXIX','XL','XLI','XLII','XLIII','XLIV','XLV','XLVI','XLVII','XLVIII','XLIX','L','LI',\n",
    "          'LII','LIII','LIV','LV','LVI','LVII','LVIII','LIX','LX','LXI','LXII','LXIII','LXIV','LXV','LXVI','LXVII','LXVIII','LXIX','LXX','LXXI','LXXII','LXXIII','LXXIV','LXXV','LXXVI','LXXVII','LXXVIII','LXXIX','LXXX','LXXXI','LXXXII','LXXXIII','LXXXIV','LXXXV','LXXXVI','LXXXVII','LXXXVIII','LXXXIX','XC','XCI','XCII','XCIII','XCIV','XCV','XCVI','XCVII','XCVIII','XCIX','C']\n",
    "\n",
    "alineas_list = [\n",
    "    'a)', 'b)', 'c)', 'd)', 'e)', 'f)', 'g)', 'h)', 'i)', 'j)', 'k)', 'l)', 'm)',\n",
    "    'n)', 'o)', 'p)', 'q)', 'r)', 's)', 't)', 'u)', 'v)', 'w)', 'x)', 'y)', 'z)'\n",
    "]\n",
    "\n",
    "df_ref = pd.DataFrame(columns=['artigo', 'texto', 'paragrafo_unico', 'inciso', 'alinea', 'paragrafo'])"
   ]
  },
  {
   "cell_type": "code",
   "execution_count": 26,
   "id": "eafc94ca",
   "metadata": {
    "hidden": true,
    "scrolled": false
   },
   "outputs": [],
   "source": [
    "full_html_page_list = soup.find_all('div', attrs={'id': 'art'})[:-1]\n",
    "\n",
    "full_discarted_list = []\n",
    "for page in full_html_page_list:\n",
    "    aux_list = []\n",
    "    discarted_list = []\n",
    "    \n",
    "    #txt = soup.find_all('div', attrs={'id': 'art'})[-2].get_text().replace('rt.', 'rt').replace('arts.', 'arts ').replace('\\xa0', '\\n').replace('\\n\\t', '')\n",
    "    txt = page.get_text().replace('rt.', 'rt').replace('arts.', 'arts ').replace('\\xa0', '\\n').replace('\\n\\t', '')\n",
    "    \n",
    "    for j in range(1, 120):\n",
    "        txt = txt.replace(f'{j}º', f'{j}.')\n",
    "\n",
    "    pre_txt = [k.strip() for k in nltk.tokenize.line_tokenize(txt)]\n",
    "    pre_list = [k.replace(' - ', '. ').replace(')', ').').split('.') for k in pre_txt]\n",
    "    pre_list = [list(filter(None, row)) for row in pre_list]\n",
    "\n",
    "    for i in range(0, len(pre_list)):\n",
    "        row = pre_list[i]\n",
    "\n",
    "        if row:  \n",
    "            if row[0].startswith('Art') and len(row) > 1:\n",
    "                check_len_row(row, aux_list, append_var='artigo')\n",
    "\n",
    "            elif row[0].startswith('§') and len(row) > 1:\n",
    "                check_len_row(row, aux_list, append_var='paragrafo')\n",
    "\n",
    "            elif row[0].startswith('Parágrafo único') and len(row) > 1:\n",
    "                check_len_row(row, aux_list, append_var='paragrafo_unico')\n",
    "\n",
    "            elif row[0] in alineas_list and len(row) > 1:\n",
    "                check_len_row(row, aux_list, append_var='alinea')\n",
    "\n",
    "            elif row[0] in r_list and len(row) > 1:\n",
    "                check_len_row(row, aux_list, append_var='inciso')\n",
    "\n",
    "            else: discarted_list.append(row)\n",
    "    \n",
    "    full_discarted_list.append(discarted_list)\n",
    "    df_arts = pd.DataFrame(aux_list).reset_index(drop=True)\n",
    "    \n",
    "    df_ref = pd.concat([df_ref, df_arts], axis=0)"
   ]
  },
  {
   "cell_type": "markdown",
   "id": "9296dc35",
   "metadata": {
    "heading_collapsed": true
   },
   "source": [
    "## Data Cleaning"
   ]
  },
  {
   "cell_type": "code",
   "execution_count": 27,
   "id": "df28dee6",
   "metadata": {
    "hidden": true
   },
   "outputs": [
    {
     "data": {
      "text/html": [
       "<div>\n",
       "<style scoped>\n",
       "    .dataframe tbody tr th:only-of-type {\n",
       "        vertical-align: middle;\n",
       "    }\n",
       "\n",
       "    .dataframe tbody tr th {\n",
       "        vertical-align: top;\n",
       "    }\n",
       "\n",
       "    .dataframe thead th {\n",
       "        text-align: right;\n",
       "    }\n",
       "</style>\n",
       "<table border=\"1\" class=\"dataframe\">\n",
       "  <thead>\n",
       "    <tr style=\"text-align: right;\">\n",
       "      <th></th>\n",
       "      <th>artigo</th>\n",
       "      <th>texto</th>\n",
       "      <th>paragrafo_unico</th>\n",
       "      <th>inciso</th>\n",
       "      <th>alinea</th>\n",
       "      <th>paragrafo</th>\n",
       "    </tr>\n",
       "  </thead>\n",
       "  <tbody>\n",
       "    <tr>\n",
       "      <th>0</th>\n",
       "      <td>Art 1</td>\n",
       "      <td>A República Federativa do Brasil, formada pel...</td>\n",
       "      <td>NaN</td>\n",
       "      <td>NaN</td>\n",
       "      <td>NaN</td>\n",
       "      <td>NaN</td>\n",
       "    </tr>\n",
       "    <tr>\n",
       "      <th>1</th>\n",
       "      <td>NaN</td>\n",
       "      <td>a soberania;</td>\n",
       "      <td>NaN</td>\n",
       "      <td>I</td>\n",
       "      <td>NaN</td>\n",
       "      <td>NaN</td>\n",
       "    </tr>\n",
       "    <tr>\n",
       "      <th>2</th>\n",
       "      <td>NaN</td>\n",
       "      <td>a cidadania;</td>\n",
       "      <td>NaN</td>\n",
       "      <td>II</td>\n",
       "      <td>NaN</td>\n",
       "      <td>NaN</td>\n",
       "    </tr>\n",
       "    <tr>\n",
       "      <th>3</th>\n",
       "      <td>NaN</td>\n",
       "      <td>a dignidade da pessoa humana;</td>\n",
       "      <td>NaN</td>\n",
       "      <td>III</td>\n",
       "      <td>NaN</td>\n",
       "      <td>NaN</td>\n",
       "    </tr>\n",
       "    <tr>\n",
       "      <th>4</th>\n",
       "      <td>NaN</td>\n",
       "      <td>os valores sociais do trabalho e da livre ini...</td>\n",
       "      <td>NaN</td>\n",
       "      <td>IV</td>\n",
       "      <td>NaN</td>\n",
       "      <td>NaN</td>\n",
       "    </tr>\n",
       "    <tr>\n",
       "      <th>...</th>\n",
       "      <td>...</td>\n",
       "      <td>...</td>\n",
       "      <td>...</td>\n",
       "      <td>...</td>\n",
       "      <td>...</td>\n",
       "      <td>...</td>\n",
       "    </tr>\n",
       "    <tr>\n",
       "      <th>605</th>\n",
       "      <td>NaN</td>\n",
       "      <td>as contribuições parceladas devidas ao \\tRegi...</td>\n",
       "      <td>NaN</td>\n",
       "      <td>II</td>\n",
       "      <td>NaN</td>\n",
       "      <td>NaN</td>\n",
       "    </tr>\n",
       "    <tr>\n",
       "      <th>606</th>\n",
       "      <td>NaN</td>\n",
       "      <td>as contribuições parceladas devidas ao \\tresp...</td>\n",
       "      <td>NaN</td>\n",
       "      <td>III</td>\n",
       "      <td>NaN</td>\n",
       "      <td>NaN</td>\n",
       "    </tr>\n",
       "    <tr>\n",
       "      <th>607</th>\n",
       "      <td>Art 118</td>\n",
       "      <td>Os \\tlimites, as condições, as normas de aces...</td>\n",
       "      <td>NaN</td>\n",
       "      <td>NaN</td>\n",
       "      <td>NaN</td>\n",
       "      <td>NaN</td>\n",
       "    </tr>\n",
       "    <tr>\n",
       "      <th>608</th>\n",
       "      <td>Art 119</td>\n",
       "      <td>Em decorrência do estado de calamidade públic...</td>\n",
       "      <td>NaN</td>\n",
       "      <td>NaN</td>\n",
       "      <td>NaN</td>\n",
       "      <td>NaN</td>\n",
       "    </tr>\n",
       "    <tr>\n",
       "      <th>609</th>\n",
       "      <td>NaN</td>\n",
       "      <td>Para efeitos do disposto no caput deste artig...</td>\n",
       "      <td>Parágrafo único</td>\n",
       "      <td>NaN</td>\n",
       "      <td>NaN</td>\n",
       "      <td>NaN</td>\n",
       "    </tr>\n",
       "  </tbody>\n",
       "</table>\n",
       "<p>3434 rows × 6 columns</p>\n",
       "</div>"
      ],
      "text/plain": [
       "      artigo                                              texto  \\\n",
       "0      Art 1   A República Federativa do Brasil, formada pel...   \n",
       "1        NaN                                       a soberania;   \n",
       "2        NaN                                       a cidadania;   \n",
       "3        NaN                      a dignidade da pessoa humana;   \n",
       "4        NaN   os valores sociais do trabalho e da livre ini...   \n",
       "..       ...                                                ...   \n",
       "605      NaN   as contribuições parceladas devidas ao \\tRegi...   \n",
       "606      NaN   as contribuições parceladas devidas ao \\tresp...   \n",
       "607  Art 118   Os \\tlimites, as condições, as normas de aces...   \n",
       "608  Art 119   Em decorrência do estado de calamidade públic...   \n",
       "609      NaN   Para efeitos do disposto no caput deste artig...   \n",
       "\n",
       "     paragrafo_unico inciso alinea paragrafo  \n",
       "0                NaN    NaN    NaN       NaN  \n",
       "1                NaN      I    NaN       NaN  \n",
       "2                NaN     II    NaN       NaN  \n",
       "3                NaN    III    NaN       NaN  \n",
       "4                NaN     IV    NaN       NaN  \n",
       "..               ...    ...    ...       ...  \n",
       "605              NaN     II    NaN       NaN  \n",
       "606              NaN    III    NaN       NaN  \n",
       "607              NaN    NaN    NaN       NaN  \n",
       "608              NaN    NaN    NaN       NaN  \n",
       "609  Parágrafo único    NaN    NaN       NaN  \n",
       "\n",
       "[3434 rows x 6 columns]"
      ]
     },
     "execution_count": 27,
     "metadata": {},
     "output_type": "execute_result"
    }
   ],
   "source": [
    "df_ref"
   ]
  },
  {
   "cell_type": "code",
   "execution_count": 28,
   "id": "26500d41",
   "metadata": {
    "hidden": true
   },
   "outputs": [],
   "source": [
    "df1 = df_ref.reset_index(drop=True)"
   ]
  },
  {
   "cell_type": "markdown",
   "id": "389d7782",
   "metadata": {
    "hidden": true
   },
   "source": [
    "### Arts Cleaning"
   ]
  },
  {
   "cell_type": "code",
   "execution_count": 29,
   "id": "691eee4c",
   "metadata": {
    "hidden": true
   },
   "outputs": [],
   "source": [
    "df1.artigo = df1.artigo.fillna(method='ffill')\n",
    "df1.artigo = df1.artigo.apply(lambda x: x.replace('\\t', '').replace(' ', '. ')+'.' )"
   ]
  },
  {
   "cell_type": "markdown",
   "id": "4e87bf13",
   "metadata": {
    "hidden": true
   },
   "source": [
    "### Unique Parag, Inciso and Alinea Cleaning"
   ]
  },
  {
   "cell_type": "code",
   "execution_count": 30,
   "id": "cb755bbd",
   "metadata": {
    "hidden": true
   },
   "outputs": [
    {
     "data": {
      "text/html": [
       "<div>\n",
       "<style scoped>\n",
       "    .dataframe tbody tr th:only-of-type {\n",
       "        vertical-align: middle;\n",
       "    }\n",
       "\n",
       "    .dataframe tbody tr th {\n",
       "        vertical-align: top;\n",
       "    }\n",
       "\n",
       "    .dataframe thead th {\n",
       "        text-align: right;\n",
       "    }\n",
       "</style>\n",
       "<table border=\"1\" class=\"dataframe\">\n",
       "  <thead>\n",
       "    <tr style=\"text-align: right;\">\n",
       "      <th></th>\n",
       "      <th>artigo</th>\n",
       "      <th>texto</th>\n",
       "      <th>paragrafo_unico</th>\n",
       "      <th>inciso</th>\n",
       "      <th>alinea</th>\n",
       "      <th>paragrafo</th>\n",
       "    </tr>\n",
       "  </thead>\n",
       "  <tbody>\n",
       "    <tr>\n",
       "      <th>0</th>\n",
       "      <td>Art. 1.</td>\n",
       "      <td>A República Federativa do Brasil, formada pel...</td>\n",
       "      <td>na</td>\n",
       "      <td>na</td>\n",
       "      <td>na</td>\n",
       "      <td>NaN</td>\n",
       "    </tr>\n",
       "    <tr>\n",
       "      <th>1</th>\n",
       "      <td>Art. 1.</td>\n",
       "      <td>a soberania;</td>\n",
       "      <td>na</td>\n",
       "      <td>I</td>\n",
       "      <td>na</td>\n",
       "      <td>NaN</td>\n",
       "    </tr>\n",
       "  </tbody>\n",
       "</table>\n",
       "</div>"
      ],
      "text/plain": [
       "    artigo                                              texto paragrafo_unico  \\\n",
       "0  Art. 1.   A República Federativa do Brasil, formada pel...              na   \n",
       "1  Art. 1.                                       a soberania;              na   \n",
       "\n",
       "  inciso alinea paragrafo  \n",
       "0     na     na       NaN  \n",
       "1      I     na       NaN  "
      ]
     },
     "execution_count": 30,
     "metadata": {},
     "output_type": "execute_result"
    }
   ],
   "source": [
    "df1.inciso = df1.inciso.fillna('na')\n",
    "df1.alinea = df1.alinea.fillna('na')\n",
    "df1.paragrafo_unico = df1.paragrafo_unico.apply(lambda x: 'pu' if not pd.isna(x) else 'na')\n",
    "\n",
    "df1.head(2)"
   ]
  },
  {
   "cell_type": "markdown",
   "id": "606dc3a0",
   "metadata": {
    "heading_collapsed": true,
    "hidden": true
   },
   "source": [
    "### Parag Cleaning"
   ]
  },
  {
   "cell_type": "code",
   "execution_count": 31,
   "id": "5e96a796",
   "metadata": {
    "hidden": true
   },
   "outputs": [],
   "source": [
    "df1.paragrafo = df1.paragrafo.fillna('na')                        # Special Case\n",
    "df1.paragrafo = df1.paragrafo.apply(lambda x: x.replace('\\t', '').replace('° do art 22 da Lei n° 8', ''))"
   ]
  },
  {
   "cell_type": "markdown",
   "id": "08a24ea2",
   "metadata": {
    "heading_collapsed": true,
    "hidden": true
   },
   "source": [
    "### Arts Cleaning"
   ]
  },
  {
   "cell_type": "code",
   "execution_count": 32,
   "id": "2a5eac81",
   "metadata": {
    "hidden": true
   },
   "outputs": [],
   "source": [
    "df1.texto = [i.replace(':', '')+'.' if i.endswith(':') else i for i in [r.replace('\\t', '').strip().capitalize() for r in df1.texto.tolist()]]"
   ]
  },
  {
   "cell_type": "code",
   "execution_count": 33,
   "id": "742ef89c",
   "metadata": {
    "hidden": true
   },
   "outputs": [],
   "source": [
    "df1 = df1.drop_duplicates()"
   ]
  },
  {
   "cell_type": "markdown",
   "id": "7915a967",
   "metadata": {
    "heading_collapsed": true
   },
   "source": [
    "## Data Verify"
   ]
  },
  {
   "cell_type": "code",
   "execution_count": 101,
   "id": "11744eff",
   "metadata": {
    "hidden": true
   },
   "outputs": [],
   "source": [
    "df2 = df1.copy()"
   ]
  },
  {
   "cell_type": "code",
   "execution_count": 102,
   "id": "26100e1f",
   "metadata": {
    "hidden": true
   },
   "outputs": [],
   "source": [
    "# Fix Paragrafos without \" dot \" before parag number \n",
    "df2 = fix_wrong_range_var(df2, 'paragrafo', 5)"
   ]
  },
  {
   "cell_type": "markdown",
   "id": "b5f1227a",
   "metadata": {
    "heading_collapsed": true,
    "hidden": true
   },
   "source": [
    "### Add Titles"
   ]
  },
  {
   "cell_type": "code",
   "execution_count": 103,
   "id": "6d86c4ae",
   "metadata": {
    "hidden": true
   },
   "outputs": [],
   "source": [
    "df2['titulo'] = np.nan"
   ]
  },
  {
   "cell_type": "code",
   "execution_count": null,
   "id": "2e08a6c9",
   "metadata": {
    "hidden": true
   },
   "outputs": [],
   "source": [
    "titles_dict = get_titles_from_camara()"
   ]
  },
  {
   "cell_type": "code",
   "execution_count": 107,
   "id": "8c3ed14b",
   "metadata": {
    "hidden": true
   },
   "outputs": [],
   "source": [
    "for i, row in df2.iterrows():\n",
    "    if row['artigo'] in list(titles_dict.keys()):\n",
    "        df2.loc[df2.index == i, 'titulo'] = titles_dict[row['artigo']]"
   ]
  },
  {
   "cell_type": "markdown",
   "id": "f8fb56c0",
   "metadata": {
    "heading_collapsed": true,
    "hidden": true
   },
   "source": [
    "### Ordering Columns"
   ]
  },
  {
   "cell_type": "code",
   "execution_count": 112,
   "id": "e55e2c3a",
   "metadata": {
    "hidden": true
   },
   "outputs": [],
   "source": [
    "df2['sigla'] = 'CF88'\n",
    "df2['link']  = 'https://www.planalto.gov.br/ccivil_03/constituicao/constituicao.htm'\n",
    "df2['scrapy_datetime'] = datetime.now().strftime(\"%Y-%m-%d %H:%M:%S\")\n",
    "df2['process_datetime'] = datetime.now().strftime(\"%Y-%m-%d %H:%M:%S\")"
   ]
  },
  {
   "cell_type": "code",
   "execution_count": 121,
   "id": "94e1abba",
   "metadata": {
    "hidden": true
   },
   "outputs": [],
   "source": [
    "df2 = df2[['sigla', 'titulo', 'texto', 'artigo', 'inciso', 'alinea', 'paragrafo', 'paragrafo_unico', \n",
    "           'link', 'scrapy_datetime', 'process_datetime']]"
   ]
  },
  {
   "cell_type": "markdown",
   "id": "650e588d",
   "metadata": {
    "heading_collapsed": true,
    "hidden": true
   },
   "source": [
    "### Save to CSV"
   ]
  },
  {
   "cell_type": "code",
   "execution_count": 126,
   "id": "6db7ddba",
   "metadata": {
    "hidden": true
   },
   "outputs": [],
   "source": [
    "df2.to_csv(f\"cf88_scrapy_{datetime.now().strftime('%Y-%m-%d')}.csv\", index=False)"
   ]
  },
  {
   "cell_type": "markdown",
   "id": "5d2c3f4e",
   "metadata": {},
   "source": [
    "## Streamlit App Data Transform"
   ]
  },
  {
   "cell_type": "code",
   "execution_count": 1,
   "id": "80021517",
   "metadata": {},
   "outputs": [],
   "source": [
    "import re\n",
    "import pandas as pd \n",
    "\n",
    "df = pd.read_csv('cf88_scrapy_2022-08-27.csv')\n",
    "df = df.drop_duplicates().reset_index(drop=True)"
   ]
  },
  {
   "cell_type": "markdown",
   "id": "4cf0dccf",
   "metadata": {},
   "source": [
    "Pattern: CF88 - Art. 1. § 9 a) III PU"
   ]
  },
  {
   "cell_type": "code",
   "execution_count": 2,
   "id": "e654a4f8",
   "metadata": {},
   "outputs": [],
   "source": [
    "df.texto  = df.texto.apply(lambda x: x+'.' if not x.endswith(';') else x)\n",
    "df.texto  = df.texto.apply(lambda x: x[:-1] if x[-2] == '.' else x)"
   ]
  },
  {
   "cell_type": "code",
   "execution_count": 3,
   "id": "2178b61f",
   "metadata": {},
   "outputs": [],
   "source": [
    "# Manual Title Implace\n",
    "df.titulo = df.titulo.apply(lambda x: ' '.join(x.split()) if not pd.isna(x) else x)\n",
    "df.loc[2810:, 'titulo'] = 'ATO DAS DISPOSIÇÕES CONSTITUCIONAIS TRANSITÓRIAS'\n",
    "df.titulo = df.titulo.fillna(method='ffill')"
   ]
  },
  {
   "cell_type": "code",
   "execution_count": 4,
   "id": "e4f9d8dc",
   "metadata": {
    "scrolled": false
   },
   "outputs": [],
   "source": [
    "df['padrao'] = df.apply(lambda x: (x['sigla'] + ' - ' + x['artigo'] + ' ' + \n",
    "                                   x['paragrafo'].replace('na', '') + ' ' + \n",
    "                                   x['alinea'].replace('na', '') + ' ' + \n",
    "                                   x['inciso'].replace('na', '') + ' ' + \n",
    "                                   x['paragrafo_unico'].replace('na', '').upper()).strip(), axis=1)\n",
    "\n",
    "df['padrao'] = df['padrao'].apply(lambda x: ' '.join(x.split()))"
   ]
  },
  {
   "cell_type": "code",
   "execution_count": 14,
   "id": "ab0ae5c7",
   "metadata": {},
   "outputs": [],
   "source": [
    "df[['titulo', 'padrao', 'texto', 'link']].to_csv('cf88_elastic.csv', index=False)"
   ]
  }
 ],
 "metadata": {
  "hide_input": false,
  "kernelspec": {
   "display_name": "Python 3 (ipykernel)",
   "language": "python",
   "name": "python3"
  },
  "language_info": {
   "codemirror_mode": {
    "name": "ipython",
    "version": 3
   },
   "file_extension": ".py",
   "mimetype": "text/x-python",
   "name": "python",
   "nbconvert_exporter": "python",
   "pygments_lexer": "ipython3",
   "version": "3.9.5"
  },
  "varInspector": {
   "cols": {
    "lenName": 16,
    "lenType": 16,
    "lenVar": 40
   },
   "kernels_config": {
    "python": {
     "delete_cmd_postfix": "",
     "delete_cmd_prefix": "del ",
     "library": "var_list.py",
     "varRefreshCmd": "print(var_dic_list())"
    },
    "r": {
     "delete_cmd_postfix": ") ",
     "delete_cmd_prefix": "rm(",
     "library": "var_list.r",
     "varRefreshCmd": "cat(var_dic_list()) "
    }
   },
   "types_to_exclude": [
    "module",
    "function",
    "builtin_function_or_method",
    "instance",
    "_Feature"
   ],
   "window_display": false
  }
 },
 "nbformat": 4,
 "nbformat_minor": 5
}
