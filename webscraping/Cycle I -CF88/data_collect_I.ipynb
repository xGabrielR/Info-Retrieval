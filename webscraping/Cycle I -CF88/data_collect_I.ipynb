{
 "cells": [
  {
   "cell_type": "code",
   "execution_count": 1,
   "id": "df5c4602",
   "metadata": {},
   "outputs": [],
   "source": [
    "import nltk\n",
    "import requests\n",
    "import warnings\n",
    "import pandas as pd\n",
    "\n",
    "from bs4 import BeautifulSoup\n",
    "from datetime import datetime"
   ]
  },
  {
   "cell_type": "markdown",
   "id": "29aa61a6",
   "metadata": {
    "heading_collapsed": true
   },
   "source": [
    "### Aux Functions "
   ]
  },
  {
   "cell_type": "code",
   "execution_count": 129,
   "id": "180a95aa",
   "metadata": {
    "hidden": true
   },
   "outputs": [
    {
     "name": "stderr",
     "output_type": "stream",
     "text": [
      "[nltk_data] Downloading package punkt to\n",
      "[nltk_data]     C:\\Users\\T-Gamer\\AppData\\Roaming\\nltk_data...\n",
      "[nltk_data]   Package punkt is already up-to-date!\n",
      "[nltk_data] Downloading package maxent_ne_chunker to\n",
      "[nltk_data]     C:\\Users\\T-Gamer\\AppData\\Roaming\\nltk_data...\n",
      "[nltk_data]   Package maxent_ne_chunker is already up-to-date!\n"
     ]
    }
   ],
   "source": [
    "nltk.download('punkt')\n",
    "nltk.download('maxent_ne_chunker')\n",
    "warnings.filterwarnings('ignore')"
   ]
  },
  {
   "cell_type": "markdown",
   "id": "acdd37ff",
   "metadata": {
    "heading_collapsed": true
   },
   "source": [
    "# 1.0. CF88 Data Collect"
   ]
  },
  {
   "cell_type": "markdown",
   "id": "5a6e4ad3",
   "metadata": {
    "heading_collapsed": true,
    "hidden": true
   },
   "source": [
    "## Data Collect"
   ]
  },
  {
   "cell_type": "code",
   "execution_count": 2,
   "id": "e0208452",
   "metadata": {
    "hidden": true
   },
   "outputs": [],
   "source": [
    "hdr = {'User-Agent': 'Mozilla/5.0 (Macintosh; Intel Mac OS X 10_11_5),AppleWebKit/537.36 (KHTML, like Gecko) Chrome/50.0.2661.102 Safari/537.36'}\n",
    "url = 'https://www2.camara.leg.br/legin/fed/consti/1988/constituicao-1988-5-outubro-1988-322142-publicacaooriginal-1-pl.html'\n",
    "\n",
    "pg = requests.get(url=url, headers=hdr)\n",
    "soup = BeautifulSoup(pg.text, 'html.parser')"
   ]
  },
  {
   "cell_type": "code",
   "execution_count": 5,
   "id": "edb9b4f0",
   "metadata": {
    "hidden": true
   },
   "outputs": [],
   "source": [
    "source = soup.title.get_text()\n",
    "preambulo = soup.find('p', class_='preambulo').get_text()"
   ]
  },
  {
   "cell_type": "code",
   "execution_count": 6,
   "id": "9b6cd545",
   "metadata": {
    "hidden": true,
    "scrolled": false
   },
   "outputs": [],
   "source": [
    "# Pre-Processing\n",
    "txt = soup.find('div', class_='textoNorma').get_text().replace('rt.', 'rt').replace('º', '.').replace('arts.', 'arts ')\n",
    "\n",
    "pre_txt = [k.strip() for k in nltk.tokenize.sent_tokenize(\n",
    "    txt, language='portuguese'\n",
    ")]\n",
    "\n",
    "pre_txt = [list(filter(None, r.split('\\xa0'))) for r in pre_txt]"
   ]
  },
  {
   "cell_type": "code",
   "execution_count": 44,
   "id": "20c45ef3",
   "metadata": {
    "hidden": true
   },
   "outputs": [],
   "source": [
    "# Fix Titles\n",
    "aux = []\n",
    "for r in pre_txt:\n",
    "    if r[0].startswith('TÍTULO'):\n",
    "        aux.append(r[:-1][0].split('\\n')[:2])\n",
    "        aux.append(r[-1:])\n",
    "    elif r[0].startswith('CAP'):\n",
    "        aux.append([r[-1]])\n",
    "    else:\n",
    "        aux.append(r) "
   ]
  },
  {
   "cell_type": "code",
   "execution_count": 47,
   "id": "92525fab",
   "metadata": {
    "hidden": true,
    "scrolled": false
   },
   "outputs": [],
   "source": [
    "# Create Pandas DataFrame.\n",
    "a = []\n",
    "for i in range(0, len(aux[1:])):\n",
    "    r = aux[1:][i]\n",
    "    \n",
    "    if r[0].startswith('Art'):\n",
    "        a.append(\n",
    "            {'artigo': ' '.join(r + aux[1:][i+1])}\n",
    "        )\n",
    "    \n",
    "    elif r[0].startswith('Parágrafo único'):\n",
    "        a.append(\n",
    "            {'paragrafo_unico': ' '.join(r + aux[1:][i+1])}\n",
    "        )\n",
    "    \n",
    "    elif r[0].startswith('§'):\n",
    "        a.append(\n",
    "            {'paragrafo': ' '.join(r + aux[1:][i+1])}\n",
    "        )\n",
    "    \n",
    "    elif r[0].startswith('TÍTULO'):\n",
    "        a.append(\n",
    "            {'titulo': ' '.join(r)}\n",
    "        )\n",
    "\n",
    "for row in a:\n",
    "    df = pd.DataFrame(a)"
   ]
  },
  {
   "cell_type": "markdown",
   "id": "3208dbec",
   "metadata": {
    "heading_collapsed": true,
    "hidden": true
   },
   "source": [
    "## Data Cleaning"
   ]
  },
  {
   "cell_type": "code",
   "execution_count": 48,
   "id": "39a7c839",
   "metadata": {
    "hidden": true
   },
   "outputs": [],
   "source": [
    "alineas_list = [\n",
    "    'a)', 'b)', 'c)', 'd)', 'e)', 'f)', 'g)', 'h)', 'i)', 'j)', 'k)', 'l)', 'm)',\n",
    "    'n)', 'o)', 'p)', 'q)', 'r)', 's)', 't)', 'u)', 'v)', 'w)', 'x)', 'y)', 'z)'\n",
    "]\n",
    "\n",
    "base_dict = {\n",
    "    'sigla': '', 'livro': '', 'titulo': '',\n",
    "    'capitulo': '', 'sessao': '', 'subsessao': '',\n",
    "    'artigo': '', 'paragrafo': '', 'incisos': '',\n",
    "    'alineas': '', 'lei': '', 'scrapy_datetime': '', 'link': '',\n",
    "}"
   ]
  },
  {
   "cell_type": "code",
   "execution_count": 49,
   "id": "bb846d79",
   "metadata": {
    "hidden": true
   },
   "outputs": [],
   "source": [
    "df.artigo = [k.replace(':', \";\") if pd.notna(k) else k for k in df.artigo.tolist()]\n",
    "df.paragrafo = df.paragrafo.apply(lambda x: x.replace(':', ';') if pd.notnull(x) else x)"
   ]
  },
  {
   "cell_type": "code",
   "execution_count": 50,
   "id": "e09d2133",
   "metadata": {
    "hidden": true
   },
   "outputs": [
    {
     "data": {
      "text/html": [
       "<div>\n",
       "<style scoped>\n",
       "    .dataframe tbody tr th:only-of-type {\n",
       "        vertical-align: middle;\n",
       "    }\n",
       "\n",
       "    .dataframe tbody tr th {\n",
       "        vertical-align: top;\n",
       "    }\n",
       "\n",
       "    .dataframe thead th {\n",
       "        text-align: right;\n",
       "    }\n",
       "</style>\n",
       "<table border=\"1\" class=\"dataframe\">\n",
       "  <thead>\n",
       "    <tr style=\"text-align: right;\">\n",
       "      <th></th>\n",
       "      <th>titulo</th>\n",
       "      <th>artigo</th>\n",
       "      <th>paragrafo_unico</th>\n",
       "      <th>paragrafo</th>\n",
       "    </tr>\n",
       "  </thead>\n",
       "  <tbody>\n",
       "    <tr>\n",
       "      <th>0</th>\n",
       "      <td>TÍTULO I  DOS PRINCÍPIOS FUNDAMENTAIS</td>\n",
       "      <td>NaN</td>\n",
       "      <td>NaN</td>\n",
       "      <td>NaN</td>\n",
       "    </tr>\n",
       "    <tr>\n",
       "      <th>1</th>\n",
       "      <td>NaN</td>\n",
       "      <td>Art 1. A República Federativa do Brasil, forma...</td>\n",
       "      <td>NaN</td>\n",
       "      <td>NaN</td>\n",
       "    </tr>\n",
       "  </tbody>\n",
       "</table>\n",
       "</div>"
      ],
      "text/plain": [
       "                                   titulo  \\\n",
       "0  TÍTULO I  DOS PRINCÍPIOS FUNDAMENTAIS    \n",
       "1                                     NaN   \n",
       "\n",
       "                                              artigo paragrafo_unico paragrafo  \n",
       "0                                                NaN             NaN       NaN  \n",
       "1  Art 1. A República Federativa do Brasil, forma...             NaN       NaN  "
      ]
     },
     "execution_count": 50,
     "metadata": {},
     "output_type": "execute_result"
    }
   ],
   "source": [
    "df.head(2)"
   ]
  },
  {
   "cell_type": "markdown",
   "id": "0b0acbf7",
   "metadata": {
    "heading_collapsed": true,
    "hidden": true
   },
   "source": [
    "### Arts Cleaning "
   ]
  },
  {
   "cell_type": "code",
   "execution_count": 52,
   "id": "4698124b",
   "metadata": {
    "hidden": true
   },
   "outputs": [],
   "source": [
    "df1 = df.artigo.str.split(';', expand=True)\n",
    "\n",
    "df_arts = pd.DataFrame(columns=['body', 'artigo', 'incisos'])"
   ]
  },
  {
   "cell_type": "code",
   "execution_count": 53,
   "id": "b994931a",
   "metadata": {
    "hidden": true
   },
   "outputs": [],
   "source": [
    "for col in range(0, df1.T.shape[-1]):\n",
    "    df2 = df1.T[col]\n",
    "\n",
    "    aux = df2[pd.notna(df2)]\n",
    "\n",
    "    if not aux.empty:\n",
    "        art = aux[0].split('.')[0]\n",
    "\n",
    "        art_body = {\"body\": aux[0].split('.')[1]}\n",
    "\n",
    "        df_art = pd.DataFrame(art_body, index=[0])\n",
    "\n",
    "        df_art['artigo'] = art\n",
    "\n",
    "        df_i = pd.DataFrame([i.strip().split(' - ') for i in aux[1:]]).rename(columns={0:\"incisos\", 1:\"body\"})\n",
    "        df_i['artigo'] = art\n",
    "\n",
    "        df_clean = pd.concat([df_art, df_i], axis=0).reset_index(drop=True)\n",
    "\n",
    "        df_arts = pd.concat([df_arts, df_clean], axis=0)\n",
    "\n",
    "df_arts.incisos = df_arts.incisos.fillna(0)\n",
    "\n",
    "df_arts = df_arts.reset_index(drop=True)"
   ]
  },
  {
   "cell_type": "code",
   "execution_count": 54,
   "id": "36ba43ae",
   "metadata": {
    "hidden": true
   },
   "outputs": [],
   "source": [
    "alineas_index = df_arts['incisos'].str.extract(\"(^[a-z]\\)?)\").dropna()[0].index\n",
    "\n",
    "alineas = df_arts.loc[df_arts.incisos.index.isin(alineas_index), \"incisos\"]\n",
    "alineas_body = pd.Series({k:v[5:].capitalize() for k, v in zip(alineas_index, alineas.to_list())})\n",
    "alineas_body.name = \"body\"\n",
    "\n",
    "alineas_simbol = alineas.str.extract(\"([a-z]\\))\")[0]\n",
    "\n",
    "alineas_simbol.name = \"alineas\"\n",
    "\n",
    "df_arts = pd.concat([df_arts, alineas_simbol], axis=1)\n",
    "\n",
    "df_arts.body = df_arts.body.combine_first(alineas_body)\n",
    "\n",
    "df_arts.loc[df_arts.incisos.index.isin(alineas_index), \"incisos\"] = np.nan\n",
    "\n",
    "df_arts.incisos = df_arts.incisos.fillna(method=\"ffill\")"
   ]
  },
  {
   "cell_type": "code",
   "execution_count": 55,
   "id": "67677055",
   "metadata": {
    "hidden": true
   },
   "outputs": [
    {
     "data": {
      "text/html": [
       "<div>\n",
       "<style scoped>\n",
       "    .dataframe tbody tr th:only-of-type {\n",
       "        vertical-align: middle;\n",
       "    }\n",
       "\n",
       "    .dataframe tbody tr th {\n",
       "        vertical-align: top;\n",
       "    }\n",
       "\n",
       "    .dataframe thead th {\n",
       "        text-align: right;\n",
       "    }\n",
       "</style>\n",
       "<table border=\"1\" class=\"dataframe\">\n",
       "  <thead>\n",
       "    <tr style=\"text-align: right;\">\n",
       "      <th></th>\n",
       "      <th>body</th>\n",
       "      <th>artigo</th>\n",
       "      <th>incisos</th>\n",
       "      <th>alineas</th>\n",
       "    </tr>\n",
       "  </thead>\n",
       "  <tbody>\n",
       "    <tr>\n",
       "      <th>0</th>\n",
       "      <td>A República Federativa do Brasil, formada pel...</td>\n",
       "      <td>Art 1</td>\n",
       "      <td>0</td>\n",
       "      <td>NaN</td>\n",
       "    </tr>\n",
       "    <tr>\n",
       "      <th>1</th>\n",
       "      <td>a soberania</td>\n",
       "      <td>Art 1</td>\n",
       "      <td>I</td>\n",
       "      <td>NaN</td>\n",
       "    </tr>\n",
       "    <tr>\n",
       "      <th>2</th>\n",
       "      <td>a cidadania</td>\n",
       "      <td>Art 1</td>\n",
       "      <td>II</td>\n",
       "      <td>NaN</td>\n",
       "    </tr>\n",
       "  </tbody>\n",
       "</table>\n",
       "</div>"
      ],
      "text/plain": [
       "                                                body artigo incisos alineas\n",
       "0   A República Federativa do Brasil, formada pel...  Art 1       0     NaN\n",
       "1                                        a soberania  Art 1       I     NaN\n",
       "2                                        a cidadania  Art 1      II     NaN"
      ]
     },
     "execution_count": 55,
     "metadata": {},
     "output_type": "execute_result"
    }
   ],
   "source": [
    "df_arts.head(3)"
   ]
  },
  {
   "cell_type": "code",
   "execution_count": 56,
   "id": "af26fd7b",
   "metadata": {
    "hidden": true
   },
   "outputs": [],
   "source": [
    "df_arts['incisos'] = df_arts['incisos'].replace(0, \"na\")\n",
    "df_arts['alineas'] = df_arts['alineas'].fillna(\"na\")"
   ]
  },
  {
   "cell_type": "code",
   "execution_count": 57,
   "id": "3fa984bf",
   "metadata": {
    "hidden": true
   },
   "outputs": [],
   "source": [
    "df_ref = pd.DataFrame(base_dict, index=[0])"
   ]
  },
  {
   "cell_type": "markdown",
   "id": "6556e87b",
   "metadata": {
    "heading_collapsed": true,
    "hidden": true
   },
   "source": [
    "### Title Cleaning"
   ]
  },
  {
   "cell_type": "code",
   "execution_count": 58,
   "id": "03c578e9",
   "metadata": {
    "hidden": true
   },
   "outputs": [],
   "source": [
    "df2 = df_arts.copy()\n",
    "df2['titulo'] = np.nan\n",
    "\n",
    "aux = df[['titulo', 'artigo']].fillna(\"NaN\")"
   ]
  },
  {
   "cell_type": "code",
   "execution_count": 59,
   "id": "10fd9519",
   "metadata": {
    "hidden": true
   },
   "outputs": [],
   "source": [
    "title_index = aux[~aux['titulo'].str.contains('NaN')]['titulo'].index\n",
    "title_arts = aux.iloc[(aux.titulo.index.isin(title_index)|(aux.artigo.index.isin(title_index+1))), :].replace(\"NaN\", np.nan)\n",
    "\n",
    "title_arts = pd.concat([title_arts['titulo'].dropna().reset_index(drop=True), title_arts['artigo'].dropna().reset_index(drop=True)], axis=1)\n",
    "\n",
    "title_arts['artigo'] = title_arts['artigo'].str.extract('(^[A-z]+\\s\\d+)')[0].tolist()"
   ]
  },
  {
   "cell_type": "code",
   "execution_count": 60,
   "id": "8c54bfd9",
   "metadata": {
    "hidden": true
   },
   "outputs": [],
   "source": [
    "# Search title location index on DF2\n",
    "aux = df2.artigo.drop_duplicates()\n",
    "title_index = aux[aux.isin(title_arts['artigo'])]\n",
    "\n",
    "df2.iloc[title_index.index, -1] = title_arts['titulo'].to_list() \n",
    "\n",
    "df2['titulo'] = df2['titulo'].fillna(method=\"ffill\")"
   ]
  },
  {
   "cell_type": "code",
   "execution_count": 63,
   "id": "47107bf0",
   "metadata": {
    "hidden": true
   },
   "outputs": [],
   "source": [
    "# Dataset Preparation\n",
    "df2 = df2.rename(columns={\"body\":\"lei\"})\n",
    "\n",
    "df2['lei'] = df2['lei'].apply(lambda x: x.strip().capitalize())\n",
    "\n",
    "df2['sigla'] = 'CF88'\n",
    "df2['link']  = 'https://www.planalto.gov.br/ccivil_03/constituicao/constituicaocompilado.htm'\n",
    "df2['scrapy_datetime'] = datetime.now().strftime(\"%Y-%m-%d %H:%M:%S\")\n",
    "df2['process_datetime'] = datetime.now().strftime(\"%Y-%m-%d %H:%M:%S\")\n",
    "\n",
    "df2 = df2[['sigla', 'titulo', 'artigo', 'incisos', 'alineas', 'lei', 'link', 'scrapy_datetime', 'process_datetime']]"
   ]
  },
  {
   "cell_type": "code",
   "execution_count": 64,
   "id": "16bbfd86",
   "metadata": {
    "hidden": true
   },
   "outputs": [],
   "source": [
    "token_titles = [nltk.tokenize.word_tokenize(k) for k in df2['titulo'].to_list()]\n",
    "df2['titulo'] = [' '.join(k[:2] + ['-'] + k[2:]) for k in token_titles]"
   ]
  },
  {
   "cell_type": "code",
   "execution_count": 67,
   "id": "5f2836ee",
   "metadata": {
    "hidden": true
   },
   "outputs": [],
   "source": [
    "df2.to_csv(\"../data/arts_update2.csv\", index=True)"
   ]
  },
  {
   "cell_type": "markdown",
   "id": "447b061b",
   "metadata": {
    "heading_collapsed": true,
    "hidden": true
   },
   "source": [
    "### Parag Cleaning"
   ]
  },
  {
   "cell_type": "code",
   "execution_count": 456,
   "id": "32eae840",
   "metadata": {
    "hidden": true,
    "scrolled": false
   },
   "outputs": [],
   "source": [
    "aux = df[['artigo', 'paragrafo_unico']].fillna(\"NaN\")"
   ]
  },
  {
   "cell_type": "code",
   "execution_count": 465,
   "id": "3583b61a",
   "metadata": {
    "hidden": true
   },
   "outputs": [],
   "source": [
    "para_index = aux[~aux['paragrafo_unico'].str.contains('NaN')]['paragrafo_unico'].index\n",
    "\n",
    "para_arts = aux.iloc[(aux.paragrafo_unico.index.isin(para_index)|(aux.artigo.index.isin(para_index+1))), :].replace(\"NaN\", np.nan)\n",
    "\n",
    "para_arts = pd.concat([para_arts['paragrafo_unico'].dropna().reset_index(drop=True), para_arts['artigo'].dropna().reset_index(drop=True)], axis=1)\n",
    "\n",
    "para_arts['artigo'] = para_arts['artigo'].str.extract('(^[A-z]+\\s\\d+)')[0].tolist()"
   ]
  }
 ],
 "metadata": {
  "hide_input": false,
  "kernelspec": {
   "display_name": "Python 3 (ipykernel)",
   "language": "python",
   "name": "python3"
  },
  "language_info": {
   "codemirror_mode": {
    "name": "ipython",
    "version": 3
   },
   "file_extension": ".py",
   "mimetype": "text/x-python",
   "name": "python",
   "nbconvert_exporter": "python",
   "pygments_lexer": "ipython3",
   "version": "3.9.5"
  },
  "varInspector": {
   "cols": {
    "lenName": 16,
    "lenType": 16,
    "lenVar": 40
   },
   "kernels_config": {
    "python": {
     "delete_cmd_postfix": "",
     "delete_cmd_prefix": "del ",
     "library": "var_list.py",
     "varRefreshCmd": "print(var_dic_list())"
    },
    "r": {
     "delete_cmd_postfix": ") ",
     "delete_cmd_prefix": "rm(",
     "library": "var_list.r",
     "varRefreshCmd": "cat(var_dic_list()) "
    }
   },
   "types_to_exclude": [
    "module",
    "function",
    "builtin_function_or_method",
    "instance",
    "_Feature"
   ],
   "window_display": false
  }
 },
 "nbformat": 4,
 "nbformat_minor": 5
}
